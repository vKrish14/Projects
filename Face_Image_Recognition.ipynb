{
  "nbformat": 4,
  "nbformat_minor": 0,
  "metadata": {
    "colab": {
      "provenance": [],
      "authorship_tag": "ABX9TyNkO1Anhmyjk5stVsyJDtda",
      "include_colab_link": true
    },
    "kernelspec": {
      "name": "python3",
      "display_name": "Python 3"
    },
    "language_info": {
      "name": "python"
    }
  },
  "cells": [
    {
      "cell_type": "markdown",
      "metadata": {
        "id": "view-in-github",
        "colab_type": "text"
      },
      "source": [
        "<a href=\"https://colab.research.google.com/github/vKrish14/Projects/blob/main/Face_Image_Recognition.ipynb\" target=\"_parent\"><img src=\"https://colab.research.google.com/assets/colab-badge.svg\" alt=\"Open In Colab\"/></a>"
      ]
    },
    {
      "cell_type": "code",
      "execution_count": 2,
      "metadata": {
        "colab": {
          "base_uri": "https://localhost:8080/",
          "height": 920
        },
        "id": "zCz4oU-afFL7",
        "outputId": "72c567ba-15fd-42e4-c070-09e16ac430cc"
      },
      "outputs": [
        {
          "output_type": "stream",
          "name": "stdout",
          "text": [
            "Requirement already satisfied: Pillow in /usr/local/lib/python3.11/dist-packages (10.4.0)\n",
            "Requirement already satisfied: landingai in /usr/local/lib/python3.11/dist-packages (0.3.49)\n",
            "Requirement already satisfied: aiofiles<1.0.0,>=0.7.0 in /usr/local/lib/python3.11/dist-packages (from landingai) (0.8.0)\n",
            "Requirement already satisfied: aiohttp<4.0.0,>=3.7.3 in /usr/local/lib/python3.11/dist-packages (from aiohttp[speedups]<4.0.0,>=3.7.3->landingai) (3.11.15)\n",
            "Requirement already satisfied: bbox-visualizer<0.2.0,>=0.1.0 in /usr/local/lib/python3.11/dist-packages (from landingai) (0.1.0)\n",
            "Requirement already satisfied: imageio<3.0.0,>=2.0.0 in /usr/local/lib/python3.11/dist-packages (from imageio[ffmpeg]<3.0.0,>=2.0.0->landingai) (2.37.0)\n",
            "Requirement already satisfied: numpy<2.0.0,>=1.21.0 in /usr/local/lib/python3.11/dist-packages (from landingai) (1.26.4)\n",
            "Requirement already satisfied: opencv-python<5.0,>=4.5 in /usr/local/lib/python3.11/dist-packages (from landingai) (4.11.0.86)\n",
            "Requirement already satisfied: pandas<3.0.0,>=2.0.0 in /usr/local/lib/python3.11/dist-packages (from landingai) (2.2.2)\n",
            "Requirement already satisfied: pydantic<3.0.0,>=2.0.0 in /usr/local/lib/python3.11/dist-packages (from landingai) (2.11.5)\n",
            "Requirement already satisfied: pydantic-settings<3.0.0,>=2.3.1 in /usr/local/lib/python3.11/dist-packages (from landingai) (2.9.1)\n",
            "Requirement already satisfied: requests<3.0.0,>=2.0.0 in /usr/local/lib/python3.11/dist-packages (from landingai) (2.32.3)\n",
            "Requirement already satisfied: requests-toolbelt<2.0.0,>=1.0.0 in /usr/local/lib/python3.11/dist-packages (from landingai) (1.0.0)\n",
            "Requirement already satisfied: segmentation-mask-overlay<0.4.0,>=0.3.4 in /usr/local/lib/python3.11/dist-packages (from landingai) (0.3.4)\n",
            "Requirement already satisfied: tenacity<9.0.0,>=8.2.3 in /usr/local/lib/python3.11/dist-packages (from landingai) (8.5.0)\n",
            "Requirement already satisfied: tqdm<5.0.0,>=4.64.0 in /usr/local/lib/python3.11/dist-packages (from landingai) (4.67.1)\n",
            "Requirement already satisfied: urllib3<2.0.0,>=1.26.0 in /usr/local/lib/python3.11/dist-packages (from landingai) (1.26.20)\n",
            "Requirement already satisfied: aiohappyeyeballs>=2.3.0 in /usr/local/lib/python3.11/dist-packages (from aiohttp<4.0.0,>=3.7.3->aiohttp[speedups]<4.0.0,>=3.7.3->landingai) (2.6.1)\n",
            "Requirement already satisfied: aiosignal>=1.1.2 in /usr/local/lib/python3.11/dist-packages (from aiohttp<4.0.0,>=3.7.3->aiohttp[speedups]<4.0.0,>=3.7.3->landingai) (1.3.2)\n",
            "Requirement already satisfied: attrs>=17.3.0 in /usr/local/lib/python3.11/dist-packages (from aiohttp<4.0.0,>=3.7.3->aiohttp[speedups]<4.0.0,>=3.7.3->landingai) (25.3.0)\n",
            "Requirement already satisfied: frozenlist>=1.1.1 in /usr/local/lib/python3.11/dist-packages (from aiohttp<4.0.0,>=3.7.3->aiohttp[speedups]<4.0.0,>=3.7.3->landingai) (1.6.0)\n",
            "Requirement already satisfied: multidict<7.0,>=4.5 in /usr/local/lib/python3.11/dist-packages (from aiohttp<4.0.0,>=3.7.3->aiohttp[speedups]<4.0.0,>=3.7.3->landingai) (6.4.4)\n",
            "Requirement already satisfied: propcache>=0.2.0 in /usr/local/lib/python3.11/dist-packages (from aiohttp<4.0.0,>=3.7.3->aiohttp[speedups]<4.0.0,>=3.7.3->landingai) (0.3.1)\n",
            "Requirement already satisfied: yarl<2.0,>=1.17.0 in /usr/local/lib/python3.11/dist-packages (from aiohttp<4.0.0,>=3.7.3->aiohttp[speedups]<4.0.0,>=3.7.3->landingai) (1.20.0)\n",
            "Requirement already satisfied: aiodns>=3.2.0 in /usr/local/lib/python3.11/dist-packages (from aiohttp[speedups]<4.0.0,>=3.7.3->landingai) (3.5.0)\n",
            "Requirement already satisfied: Brotli in /usr/local/lib/python3.11/dist-packages (from aiohttp[speedups]<4.0.0,>=3.7.3->landingai) (1.1.0)\n",
            "Requirement already satisfied: imageio-ffmpeg in /usr/local/lib/python3.11/dist-packages (from imageio[ffmpeg]<3.0.0,>=2.0.0->landingai) (0.6.0)\n",
            "Requirement already satisfied: psutil in /usr/local/lib/python3.11/dist-packages (from imageio[ffmpeg]<3.0.0,>=2.0.0->landingai) (5.9.5)\n",
            "Requirement already satisfied: python-dateutil>=2.8.2 in /usr/local/lib/python3.11/dist-packages (from pandas<3.0.0,>=2.0.0->landingai) (2.9.0.post0)\n",
            "Requirement already satisfied: pytz>=2020.1 in /usr/local/lib/python3.11/dist-packages (from pandas<3.0.0,>=2.0.0->landingai) (2025.2)\n",
            "Requirement already satisfied: tzdata>=2022.7 in /usr/local/lib/python3.11/dist-packages (from pandas<3.0.0,>=2.0.0->landingai) (2025.2)\n",
            "Requirement already satisfied: annotated-types>=0.6.0 in /usr/local/lib/python3.11/dist-packages (from pydantic<3.0.0,>=2.0.0->landingai) (0.7.0)\n",
            "Requirement already satisfied: pydantic-core==2.33.2 in /usr/local/lib/python3.11/dist-packages (from pydantic<3.0.0,>=2.0.0->landingai) (2.33.2)\n",
            "Requirement already satisfied: typing-extensions>=4.12.2 in /usr/local/lib/python3.11/dist-packages (from pydantic<3.0.0,>=2.0.0->landingai) (4.14.0)\n",
            "Requirement already satisfied: typing-inspection>=0.4.0 in /usr/local/lib/python3.11/dist-packages (from pydantic<3.0.0,>=2.0.0->landingai) (0.4.1)\n",
            "Requirement already satisfied: python-dotenv>=0.21.0 in /usr/local/lib/python3.11/dist-packages (from pydantic-settings<3.0.0,>=2.3.1->landingai) (1.1.0)\n",
            "Requirement already satisfied: charset-normalizer<4,>=2 in /usr/local/lib/python3.11/dist-packages (from requests<3.0.0,>=2.0.0->landingai) (3.4.2)\n",
            "Requirement already satisfied: idna<4,>=2.5 in /usr/local/lib/python3.11/dist-packages (from requests<3.0.0,>=2.0.0->landingai) (3.10)\n",
            "Requirement already satisfied: certifi>=2017.4.17 in /usr/local/lib/python3.11/dist-packages (from requests<3.0.0,>=2.0.0->landingai) (2025.4.26)\n",
            "Requirement already satisfied: matplotlib>=3.4.2 in /usr/local/lib/python3.11/dist-packages (from segmentation-mask-overlay<0.4.0,>=0.3.4->landingai) (3.10.0)\n",
            "Requirement already satisfied: opencv-python-headless>=4.5.3 in /usr/local/lib/python3.11/dist-packages (from segmentation-mask-overlay<0.4.0,>=0.3.4->landingai) (4.11.0.86)\n",
            "Requirement already satisfied: pycares>=4.9.0 in /usr/local/lib/python3.11/dist-packages (from aiodns>=3.2.0->aiohttp[speedups]<4.0.0,>=3.7.3->landingai) (4.9.0)\n",
            "Requirement already satisfied: contourpy>=1.0.1 in /usr/local/lib/python3.11/dist-packages (from matplotlib>=3.4.2->segmentation-mask-overlay<0.4.0,>=0.3.4->landingai) (1.3.2)\n",
            "Requirement already satisfied: cycler>=0.10 in /usr/local/lib/python3.11/dist-packages (from matplotlib>=3.4.2->segmentation-mask-overlay<0.4.0,>=0.3.4->landingai) (0.12.1)\n",
            "Requirement already satisfied: fonttools>=4.22.0 in /usr/local/lib/python3.11/dist-packages (from matplotlib>=3.4.2->segmentation-mask-overlay<0.4.0,>=0.3.4->landingai) (4.58.1)\n",
            "Requirement already satisfied: kiwisolver>=1.3.1 in /usr/local/lib/python3.11/dist-packages (from matplotlib>=3.4.2->segmentation-mask-overlay<0.4.0,>=0.3.4->landingai) (1.4.8)\n",
            "Requirement already satisfied: packaging>=20.0 in /usr/local/lib/python3.11/dist-packages (from matplotlib>=3.4.2->segmentation-mask-overlay<0.4.0,>=0.3.4->landingai) (24.2)\n",
            "Requirement already satisfied: pyparsing>=2.3.1 in /usr/local/lib/python3.11/dist-packages (from matplotlib>=3.4.2->segmentation-mask-overlay<0.4.0,>=0.3.4->landingai) (3.2.3)\n",
            "Requirement already satisfied: six>=1.5 in /usr/local/lib/python3.11/dist-packages (from python-dateutil>=2.8.2->pandas<3.0.0,>=2.0.0->landingai) (1.17.0)\n",
            "Requirement already satisfied: cffi>=1.5.0 in /usr/local/lib/python3.11/dist-packages (from pycares>=4.9.0->aiodns>=3.2.0->aiohttp[speedups]<4.0.0,>=3.7.3->landingai) (1.17.1)\n",
            "Requirement already satisfied: pycparser in /usr/local/lib/python3.11/dist-packages (from cffi>=1.5.0->pycares>=4.9.0->aiodns>=3.2.0->aiohttp[speedups]<4.0.0,>=3.7.3->landingai) (2.22)\n"
          ]
        },
        {
          "output_type": "display_data",
          "data": {
            "text/plain": [
              "[ClassificationPrediction(score=0.6797688007354736, label_name='Front', label_index=2)]"
            ]
          },
          "metadata": {}
        }
      ],
      "source": [
        "!pip install Pillow landingai\n",
        "from PIL import Image\n",
        "from landingai.predict import Predictor\n",
        "\n",
        "# Enter your API Key\n",
        "endpoint_id = \"1de27e81-4ff9-4e1e-98a9-8aaf3670f899\"\n",
        "api_key = \"land_sk_lC6zPNmjWZeAViZs27cNrOOZehuYefStHW9M3pIbF4ZqdGJivp\"\n",
        "\n",
        "# Load your image\n",
        "image = Image.open(\"image.jpg\")\n",
        "\n",
        "# Run inference\n",
        "predictor = Predictor(endpoint_id, api_key=api_key)\n",
        "predictions = predictor.predict(image)\n",
        "\n",
        "display(predictions)"
      ]
    },
    {
      "cell_type": "code",
      "source": [],
      "metadata": {
        "id": "Ra9i4pxffLJ_"
      },
      "execution_count": null,
      "outputs": []
    }
  ]
}